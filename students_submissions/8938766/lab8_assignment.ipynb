{
 "cells": [
  {
   "cell_type": "markdown",
   "metadata": {},
   "source": [
    "## **Lab 8 - A Dot product and a Matrix Multiplication in PyTorch and Tensorflow**\n",
    "#### Name: **Chitrank Dave**\n",
    "#### Student #: **8938766**"
   ]
  },
  {
   "cell_type": "markdown",
   "metadata": {},
   "source": [
    "Imports"
   ]
  },
  {
   "cell_type": "code",
   "execution_count": 21,
   "metadata": {},
   "outputs": [],
   "source": [
    "import torch\n",
    "import tensorflow as tf"
   ]
  },
  {
   "cell_type": "markdown",
   "metadata": {},
   "source": [
    "#### **1. PyTorch:**\n",
    "##### - Calculate the dot product between two vectors each of length 3\n",
    "\n"
   ]
  },
  {
   "cell_type": "code",
   "execution_count": 22,
   "metadata": {},
   "outputs": [
    {
     "data": {
      "text/plain": [
       "tensor(78)"
      ]
     },
     "execution_count": 22,
     "metadata": {},
     "output_type": "execute_result"
    }
   ],
   "source": [
    "vector_1 = torch.tensor([1, 2, 3, 4, 5, 6])\n",
    "vector_2 = torch.tensor([7, 8, 9, 3, 2, 1])\n",
    "\n",
    "torch.dot(vector_1, vector_2)"
   ]
  },
  {
   "cell_type": "markdown",
   "metadata": {},
   "source": [
    "##### - Calculate the matrix multiplication of two 2-dimensional matrices, each with a size of (2,2) "
   ]
  },
  {
   "cell_type": "code",
   "execution_count": 23,
   "metadata": {},
   "outputs": [
    {
     "data": {
      "text/plain": [
       "tensor([[19, 22],\n",
       "        [43, 50]])"
      ]
     },
     "execution_count": 23,
     "metadata": {},
     "output_type": "execute_result"
    }
   ],
   "source": [
    "mat_1 = torch.tensor([[1, 2],[3, 4]])\n",
    "mat_2 = torch.tensor([[5, 6],[7, 8]])\n",
    "\n",
    "torch.matmul(mat_1, mat_2)"
   ]
  },
  {
   "cell_type": "markdown",
   "metadata": {},
   "source": [
    "#### **2. Tensorflow:**\n",
    "##### - Calculate the dot product between the same vectors as above (re-define them in Tensorflow)\n",
    "\n"
   ]
  },
  {
   "cell_type": "code",
   "execution_count": 24,
   "metadata": {},
   "outputs": [
    {
     "data": {
      "text/plain": [
       "78"
      ]
     },
     "execution_count": 24,
     "metadata": {},
     "output_type": "execute_result"
    }
   ],
   "source": [
    "vector_1 = torch.tensor([1, 2, 3, 4, 5, 6])\n",
    "vector_2 = torch.tensor([7, 8, 9, 3, 2, 1])\n",
    "\n",
    "tf.tensordot(vector_1, vector_2, axes=1).numpy()"
   ]
  },
  {
   "cell_type": "markdown",
   "metadata": {},
   "source": [
    "##### - Calculate the matrix multiplication of the same matrics as above (re-define them in Tensorflow) "
   ]
  },
  {
   "cell_type": "code",
   "execution_count": 26,
   "metadata": {},
   "outputs": [
    {
     "data": {
      "text/plain": [
       "<tf.Tensor: shape=(2, 2), dtype=int64, numpy=\n",
       "array([[19, 22],\n",
       "       [43, 50]])>"
      ]
     },
     "execution_count": 26,
     "metadata": {},
     "output_type": "execute_result"
    }
   ],
   "source": [
    "mat_1 = torch.tensor([[1, 2],[3, 4]])\n",
    "mat_2 = torch.tensor([[5, 6],[7, 8]])\n",
    "\n",
    "tf.matmul(mat_1, mat_2)"
   ]
  },
  {
   "cell_type": "code",
   "execution_count": null,
   "metadata": {},
   "outputs": [],
   "source": []
  }
 ],
 "metadata": {
  "kernelspec": {
   "display_name": "CSCN8010_classic_ml",
   "language": "python",
   "name": "cscn8010_classic_ml"
  },
  "language_info": {
   "codemirror_mode": {
    "name": "ipython",
    "version": 3
   },
   "file_extension": ".py",
   "mimetype": "text/x-python",
   "name": "python",
   "nbconvert_exporter": "python",
   "pygments_lexer": "ipython3",
   "version": "3.11.5"
  }
 },
 "nbformat": 4,
 "nbformat_minor": 2
}
